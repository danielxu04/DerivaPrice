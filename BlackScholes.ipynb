{
 "cells": [
  {
   "attachments": {},
   "cell_type": "markdown",
   "metadata": {},
   "source": [
    "## Black-Scholes demonstration"
   ]
  },
  {
   "cell_type": "code",
   "execution_count": 2,
   "metadata": {},
   "outputs": [],
   "source": [
    "from BlackScholes import *"
   ]
  },
  {
   "attachments": {},
   "cell_type": "markdown",
   "metadata": {},
   "source": [
    "Parameters for option pricing: "
   ]
  },
  {
   "cell_type": "code",
   "execution_count": 3,
   "metadata": {},
   "outputs": [],
   "source": [
    "# Underlying asset price at t=0\n",
    "S0 = 100.0\n",
    "# Strike price\n",
    "strike = 100.0\n",
    "# Maturity\n",
    "t = 1.0\n",
    "# Risk-free rate\n",
    "rfr = 0.03\n",
    "# Volatility of underlying asset\n",
    "vol = 0.2\n"
   ]
  },
  {
   "attachments": {},
   "cell_type": "markdown",
   "metadata": {},
   "source": [
    "Call option price according to Black-Scholes model:"
   ]
  },
  {
   "cell_type": "code",
   "execution_count": 5,
   "metadata": {},
   "outputs": [
    {
     "name": "stdout",
     "output_type": "stream",
     "text": [
      "Probability factor D1: 0.25\n",
      "Probability factor D2: 0.04999999999999999\n",
      "Call Option Price: 9.413403383853016\n"
     ]
    }
   ],
   "source": [
    "call_option_price = call_option_pricer(S0, strike, t, rfr, vol)\n",
    "print('Call Option Price:', call_option_price)"
   ]
  },
  {
   "attachments": {},
   "cell_type": "markdown",
   "metadata": {},
   "source": [
    "Put option price according to Black-Scholes model:"
   ]
  },
  {
   "cell_type": "code",
   "execution_count": null,
   "metadata": {},
   "outputs": [],
   "source": [
    "put_option_price = put_option_pricer(S0, strike, t, rfr, vol)\n",
    "print('Put Option Price:', put_option_price)"
   ]
  }
 ],
 "metadata": {
  "kernelspec": {
   "display_name": ".venv",
   "language": "python",
   "name": "python3"
  },
  "language_info": {
   "codemirror_mode": {
    "name": "ipython",
    "version": 3
   },
   "file_extension": ".py",
   "mimetype": "text/x-python",
   "name": "python",
   "nbconvert_exporter": "python",
   "pygments_lexer": "ipython3",
   "version": "3.10.11"
  },
  "orig_nbformat": 4
 },
 "nbformat": 4,
 "nbformat_minor": 2
}
