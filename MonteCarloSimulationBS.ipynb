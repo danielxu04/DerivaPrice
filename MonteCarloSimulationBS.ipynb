{
 "cells": [
  {
   "attachments": {},
   "cell_type": "markdown",
   "metadata": {},
   "source": [
    "## Monte-Carlo Simulation for Black-Scholes Option Pricing"
   ]
  },
  {
   "attachments": {},
   "cell_type": "markdown",
   "metadata": {},
   "source": [
    "The following Jupyter Notebook demonstrates basic functionality achieved through the MonteCarloSimulation class."
   ]
  },
  {
   "cell_type": "code",
   "execution_count": 1,
   "metadata": {},
   "outputs": [],
   "source": [
    "from MonteCarloSimulationBS import MonteCarloSimulation"
   ]
  },
  {
   "cell_type": "code",
   "execution_count": 2,
   "metadata": {},
   "outputs": [],
   "source": [
    "monte_carlo = MonteCarloSimulation(iterations=1000000, stock_price=100, strike_price=100, \n",
    "                                   time_to_maturity=1, risk_free_rate=0.04, volatility=0.2)"
   ]
  },
  {
   "attachments": {},
   "cell_type": "markdown",
   "metadata": {},
   "source": [
    "Put option simulation:"
   ]
  },
  {
   "cell_type": "code",
   "execution_count": 5,
   "metadata": {},
   "outputs": [
    {
     "name": "stdout",
     "output_type": "stream",
     "text": [
      "Put option estimated price:  5.990165497190203\n"
     ]
    }
   ],
   "source": [
    "p_simulation = monte_carlo.simulate_put_option()\n",
    "print('Put option estimated price: ', p_simulation)"
   ]
  },
  {
   "attachments": {},
   "cell_type": "markdown",
   "metadata": {},
   "source": [
    "Call option simulation:"
   ]
  },
  {
   "cell_type": "code",
   "execution_count": 6,
   "metadata": {},
   "outputs": [
    {
     "name": "stdout",
     "output_type": "stream",
     "text": [
      "Call option estimated price:  9.923569892011121\n"
     ]
    }
   ],
   "source": [
    "c_simulation = monte_carlo.simulate_call_option()\n",
    "print('Call option estimated price: ', c_simulation)"
   ]
  }
 ],
 "metadata": {
  "kernelspec": {
   "display_name": ".venv",
   "language": "python",
   "name": "python3"
  },
  "language_info": {
   "codemirror_mode": {
    "name": "ipython",
    "version": 3
   },
   "file_extension": ".py",
   "mimetype": "text/x-python",
   "name": "python",
   "nbconvert_exporter": "python",
   "pygments_lexer": "ipython3",
   "version": "3.10.11"
  },
  "orig_nbformat": 4
 },
 "nbformat": 4,
 "nbformat_minor": 2
}
